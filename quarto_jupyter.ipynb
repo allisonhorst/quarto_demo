{
  "cells": [
    {
      "cell_type": "raw",
      "metadata": {},
      "source": [
        "---\n",
        "title: A notebook example\n",
        "---"
      ],
      "id": "1a1f769d"
    },
    {
      "cell_type": "markdown",
      "metadata": {},
      "source": [
        "## An example .ipynb\n",
        "\n",
        "To demonstrate the issue with git."
      ],
      "id": "128f585d"
    },
    {
      "cell_type": "code",
      "metadata": {},
      "source": [
        "#| echo: true\n",
        "\n",
        "import seaborn as sns\n",
        "\n",
        "df = sns.load_dataset(\"penguins\")\n",
        "sns.pairplot(df, hue = \"species\")"
      ],
      "id": "930aa190",
      "execution_count": null,
      "outputs": []
    }
  ],
  "metadata": {
    "kernelspec": {
      "display_name": "Python 3",
      "language": "python",
      "name": "python3"
    }
  },
  "nbformat": 4,
  "nbformat_minor": 5
}